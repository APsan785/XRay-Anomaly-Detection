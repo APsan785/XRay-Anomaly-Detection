{
 "cells": [
  {
   "cell_type": "code",
   "execution_count": 1,
   "id": "f1029a71",
   "metadata": {},
   "outputs": [],
   "source": [
    "import numpy as np\n",
    "import matplotlib.pyplot as plt\n",
    "import os\n",
    "import time\n",
    "import sys\n",
    "import tensorflow as tf\n",
    "from tensorflow.keras.applications.vgg19 import VGG19\n",
    "from tensorflow.keras.applications.vgg19 import preprocess_input\n",
    "from tensorflow.keras.preprocessing import image\n",
    "from tensorflow.keras.preprocessing.image import ImageDataGenerator\n",
    "from tensorflow.keras.layers import Input, Lambda, Dense, Flatten\n",
    "import tensorflow.keras as keras\n"
   ]
  },
  {
   "cell_type": "code",
   "execution_count": 2,
   "id": "df7241a4",
   "metadata": {},
   "outputs": [],
   "source": [
    "IMAGE_SIZE = [224, 224]\n",
    "vgg = VGG19(input_shape=IMAGE_SIZE + [3], weights='imagenet', include_top=False)\n",
    "for layer in vgg.layers:\n",
    "  layer.trainable = False\n",
    "x = Flatten()(vgg.output)\n"
   ]
  },
  {
   "cell_type": "code",
   "execution_count": 3,
   "id": "8c78d6cd",
   "metadata": {},
   "outputs": [
    {
     "name": "stdout",
     "output_type": "stream",
     "text": [
      "Found 48760 images belonging to 15 classes.\n",
      "Found 5412 images belonging to 15 classes.\n"
     ]
    }
   ],
   "source": [
    "train_path = \"train_images/\"\n",
    "test_path = \"test_images/\"\n",
    "batch_train = 25\n",
    "\n",
    "# train_datagen = ImageDataGenerator(rescale = 1./255, shear_range = 0.2, zoom_range = 0.2, horizontal_flip = True)\n",
    "# test_datagen = ImageDataGenerator(rescale = 1./255)\n",
    "\n",
    "# training_set = train_datagen.flow_from_directory(\n",
    "#     train_path, target_size = (224, 224), batch_size = 64, class_mode = 'categorical')\n",
    "# test_set = test_datagen.flow_from_directory(test_path,\n",
    "#                                             target_size = (224, 224),\n",
    "#                                             batch_size = 32,\n",
    "#                                             class_mode = 'categorical')\n",
    "\n",
    "def generators(shape, preprocessing): \n",
    "    '''Create the training and validation datasets for \n",
    "    a given image shape.\n",
    "    '''\n",
    "    imgdatagen = ImageDataGenerator(\n",
    "        preprocessing_function = preprocessing,\n",
    "        horizontal_flip = True, \n",
    "        validation_split = 0.1,\n",
    "        shear_range = 0.2, zoom_range = 0.2,\n",
    "        rescale = 1./255\n",
    "    )\n",
    "\n",
    "    height, width = shape\n",
    "\n",
    "    train_dataset = imgdatagen.flow_from_directory(\n",
    "        \"train_images/\",\n",
    "        target_size = (height, width), \n",
    "        batch_size = batch_train,\n",
    "        subset = 'training', \n",
    "        class_mode = 'categorical'\n",
    "    )\n",
    "\n",
    "    val_dataset = imgdatagen.flow_from_directory(\n",
    "        \"train_images/\",\n",
    "        target_size = (height, width), \n",
    "        batch_size = batch_train,\n",
    "        subset = 'validation'\n",
    "    )\n",
    "    return train_dataset, val_dataset\n",
    "\n",
    "train_dataset, val_dataset = generators(IMAGE_SIZE, preprocessing=preprocess_input)\n",
    "\n"
   ]
  },
  {
   "cell_type": "code",
   "execution_count": 4,
   "id": "87c3ac48",
   "metadata": {},
   "outputs": [
    {
     "name": "stdout",
     "output_type": "stream",
     "text": [
      "Model: \"vgg19\"\n",
      "_________________________________________________________________\n",
      " Layer (type)                Output Shape              Param #   \n",
      "=================================================================\n",
      " input_1 (InputLayer)        [(None, 224, 224, 3)]     0         \n",
      "                                                                 \n",
      " block1_conv1 (Conv2D)       (None, 224, 224, 64)      1792      \n",
      "                                                                 \n",
      " block1_conv2 (Conv2D)       (None, 224, 224, 64)      36928     \n",
      "                                                                 \n",
      " block1_pool (MaxPooling2D)  (None, 112, 112, 64)      0         \n",
      "                                                                 \n",
      " block2_conv1 (Conv2D)       (None, 112, 112, 128)     73856     \n",
      "                                                                 \n",
      " block2_conv2 (Conv2D)       (None, 112, 112, 128)     147584    \n",
      "                                                                 \n",
      " block2_pool (MaxPooling2D)  (None, 56, 56, 128)       0         \n",
      "                                                                 \n",
      " block3_conv1 (Conv2D)       (None, 56, 56, 256)       295168    \n",
      "                                                                 \n",
      " block3_conv2 (Conv2D)       (None, 56, 56, 256)       590080    \n",
      "                                                                 \n",
      " block3_conv3 (Conv2D)       (None, 56, 56, 256)       590080    \n",
      "                                                                 \n",
      " block3_conv4 (Conv2D)       (None, 56, 56, 256)       590080    \n",
      "                                                                 \n",
      " block3_pool (MaxPooling2D)  (None, 28, 28, 256)       0         \n",
      "                                                                 \n",
      " block4_conv1 (Conv2D)       (None, 28, 28, 512)       1180160   \n",
      "                                                                 \n",
      " block4_conv2 (Conv2D)       (None, 28, 28, 512)       2359808   \n",
      "                                                                 \n",
      " block4_conv3 (Conv2D)       (None, 28, 28, 512)       2359808   \n",
      "                                                                 \n",
      " block4_conv4 (Conv2D)       (None, 28, 28, 512)       2359808   \n",
      "                                                                 \n",
      " block4_pool (MaxPooling2D)  (None, 14, 14, 512)       0         \n",
      "                                                                 \n",
      " block5_conv1 (Conv2D)       (None, 14, 14, 512)       2359808   \n",
      "                                                                 \n",
      " block5_conv2 (Conv2D)       (None, 14, 14, 512)       2359808   \n",
      "                                                                 \n",
      " block5_conv3 (Conv2D)       (None, 14, 14, 512)       2359808   \n",
      "                                                                 \n",
      " block5_conv4 (Conv2D)       (None, 14, 14, 512)       2359808   \n",
      "                                                                 \n",
      " block5_pool (MaxPooling2D)  (None, 7, 7, 512)         0         \n",
      "                                                                 \n",
      "=================================================================\n",
      "Total params: 20024384 (76.39 MB)\n",
      "Trainable params: 0 (0.00 Byte)\n",
      "Non-trainable params: 20024384 (76.39 MB)\n",
      "_________________________________________________________________\n"
     ]
    }
   ],
   "source": [
    "# Visualize the model\n",
    "vgg.summary()"
   ]
  },
  {
   "cell_type": "code",
   "execution_count": 5,
   "id": "e2b347d7",
   "metadata": {
    "scrolled": true
   },
   "outputs": [
    {
     "name": "stdout",
     "output_type": "stream",
     "text": [
      "Model: \"model\"\n",
      "_________________________________________________________________\n",
      " Layer (type)                Output Shape              Param #   \n",
      "=================================================================\n",
      " input_1 (InputLayer)        [(None, 224, 224, 3)]     0         \n",
      "                                                                 \n",
      " block1_conv1 (Conv2D)       (None, 224, 224, 64)      1792      \n",
      "                                                                 \n",
      " block1_conv2 (Conv2D)       (None, 224, 224, 64)      36928     \n",
      "                                                                 \n",
      " block1_pool (MaxPooling2D)  (None, 112, 112, 64)      0         \n",
      "                                                                 \n",
      " block2_conv1 (Conv2D)       (None, 112, 112, 128)     73856     \n",
      "                                                                 \n",
      " block2_conv2 (Conv2D)       (None, 112, 112, 128)     147584    \n",
      "                                                                 \n",
      " block2_pool (MaxPooling2D)  (None, 56, 56, 128)       0         \n",
      "                                                                 \n",
      " block3_conv1 (Conv2D)       (None, 56, 56, 256)       295168    \n",
      "                                                                 \n",
      " block3_conv2 (Conv2D)       (None, 56, 56, 256)       590080    \n",
      "                                                                 \n",
      " block3_conv3 (Conv2D)       (None, 56, 56, 256)       590080    \n",
      "                                                                 \n",
      " block3_conv4 (Conv2D)       (None, 56, 56, 256)       590080    \n",
      "                                                                 \n",
      " block3_pool (MaxPooling2D)  (None, 28, 28, 256)       0         \n",
      "                                                                 \n",
      " block4_conv1 (Conv2D)       (None, 28, 28, 512)       1180160   \n",
      "                                                                 \n",
      " block4_conv2 (Conv2D)       (None, 28, 28, 512)       2359808   \n",
      "                                                                 \n",
      " block4_conv3 (Conv2D)       (None, 28, 28, 512)       2359808   \n",
      "                                                                 \n",
      " block4_conv4 (Conv2D)       (None, 28, 28, 512)       2359808   \n",
      "                                                                 \n",
      " block4_pool (MaxPooling2D)  (None, 14, 14, 512)       0         \n",
      "                                                                 \n",
      " block5_conv1 (Conv2D)       (None, 14, 14, 512)       2359808   \n",
      "                                                                 \n",
      " block5_conv2 (Conv2D)       (None, 14, 14, 512)       2359808   \n",
      "                                                                 \n",
      " block5_conv3 (Conv2D)       (None, 14, 14, 512)       2359808   \n",
      "                                                                 \n",
      " block5_conv4 (Conv2D)       (None, 14, 14, 512)       2359808   \n",
      "                                                                 \n",
      " block5_pool (MaxPooling2D)  (None, 7, 7, 512)         0         \n",
      "                                                                 \n",
      " flatten_1 (Flatten)         (None, 25088)             0         \n",
      "                                                                 \n",
      " dense (Dense)               (None, 100)               2508900   \n",
      "                                                                 \n",
      " dense_1 (Dense)             (None, 100)               10100     \n",
      "                                                                 \n",
      " dense_2 (Dense)             (None, 100)               10100     \n",
      "                                                                 \n",
      " dense_3 (Dense)             (None, 15)                1515      \n",
      "                                                                 \n",
      "=================================================================\n",
      "Total params: 22554999 (86.04 MB)\n",
      "Trainable params: 2530615 (9.65 MB)\n",
      "Non-trainable params: 20024384 (76.39 MB)\n",
      "_________________________________________________________________\n"
     ]
    }
   ],
   "source": [
    "# flatten the output of the convolutional part: \n",
    "x = keras.layers.Flatten()(vgg.output)\n",
    "# three hidden layers\n",
    "x = keras.layers.Dense(100, activation='relu')(x)\n",
    "x = keras.layers.Dense(100, activation='relu')(x)\n",
    "x = keras.layers.Dense(100, activation='relu')(x)\n",
    "\n",
    "predictions = keras.layers.Dense(15, activation='softmax')(x)\n",
    "\n",
    "# creating the full model:\n",
    "full_model = keras.models.Model(inputs=vgg.input, outputs=predictions)\n",
    "full_model.summary()"
   ]
  },
  {
   "cell_type": "code",
   "execution_count": 6,
   "id": "5641aa52",
   "metadata": {
    "scrolled": true
   },
   "outputs": [
    {
     "name": "stdout",
     "output_type": "stream",
     "text": [
      "Epoch 1/3\n",
      "1951/1951 [==============================] - 9987s 5s/step - loss: 1.8598 - acc: 0.4612 - val_loss: 1.8028 - val_acc: 0.4671\n",
      "Epoch 2/3\n",
      "1951/1951 [==============================] - 9844s 5s/step - loss: 1.8076 - acc: 0.4664 - val_loss: 1.8306 - val_acc: 0.4488\n",
      "Epoch 3/3\n",
      "1951/1951 [==============================] - 10756s 6s/step - loss: 1.7916 - acc: 0.4675 - val_loss: 1.8061 - val_acc: 0.4647\n"
     ]
    }
   ],
   "source": [
    "full_model.compile(loss='categorical_crossentropy',\n",
    "                  optimizer=keras.optimizers.Adamax(learning_rate=0.001),\n",
    "                  metrics=['acc'])\n",
    "history = full_model.fit(\n",
    "    train_dataset, \n",
    "    validation_data = val_dataset,\n",
    "    workers=10,\n",
    "    epochs=3,\n",
    "    use_multiprocessing = False\n",
    ")"
   ]
  },
  {
   "cell_type": "code",
   "execution_count": 8,
   "id": "484dc049",
   "metadata": {},
   "outputs": [
    {
     "data": {
      "image/png": "[encoded data removed]",
      "text/plain": [
       "<Figure size 640x480 with 1 Axes>"
      ]
     },
     "metadata": {},
     "output_type": "display_data"
    },
    {
     "data": {
      "image/png": "[encoded data removed]",
      "text/plain": [
       "<Figure size 640x480 with 1 Axes>"
      ]
     },
     "metadata": {},
     "output_type": "display_data"
    }
   ],
   "source": [
    "# loss\n",
    "plt.plot(history.history['loss'], label='train loss')\n",
    "plt.plot(history.history['val_loss'], label='val loss')\n",
    "plt.legend()\n",
    "plt.show()\n",
    " \n",
    " # accuracies\n",
    "plt.plot(history.history['acc'], label='train acc')\n",
    "plt.plot(history.history['val_acc'], label='val acc')\n",
    "plt.legend()\n",
    "plt.show()"
   ]
  },
  {
   "cell_type": "code",
   "execution_count": null,
   "id": "685b263d",
   "metadata": {},
   "outputs": [],
   "source": [
    "# Save the VGG19 model as part of the TensorFlow graph\n",
    "tf.saved_model.save(\n",
    "        vgg,\n",
    "    'graphs/vgg19_model',  # Replace 'path_to_save_model' with your desired path\n",
    ")"
   ]
  },
  {
   "cell_type": "code",
   "execution_count": null,
   "id": "d5e34a92",
   "metadata": {},
   "outputs": [],
   "source": [
    "def preprocess(img, crop=True, resize=True, dsize=(224, 224)):\n",
    "    if img.dtype == np.uint8:\n",
    "        img = img / 255.0\n",
    "\n",
    "    if crop:\n",
    "        short_edge = min(img.shape[:2])\n",
    "        yy = int((img.shape[0] - short_edge) / 2)\n",
    "        xx = int((img.shape[1] - short_edge) / 2)\n",
    "        crop_img = img[yy: yy + short_edge, xx: xx + short_edge]\n",
    "    else:\n",
    "        crop_img = img\n",
    "\n",
    "    if resize:\n",
    "        norm_img = imresize(crop_img, dsize, preserve_range=True)\n",
    "    else:\n",
    "        norm_img = crop_img\n",
    "\n",
    "    return (norm_img).astype(np.float32)\n",
    "\n",
    "def deprocess(img):\n",
    "    return np.clip(img * 255, 0, 255).astype(np.uint8)"
   ]
  },
  {
   "cell_type": "code",
   "execution_count": null,
   "id": "32920df9",
   "metadata": {},
   "outputs": [],
   "source": [
    "# Create a new TensorFlow graph\n",
    "g = tf.Graph()\n",
    "\n",
    "# Define the function to load the VGG model into the graph\n",
    "def load_vgg_model(graph):\n",
    "    with g.as_default():\n",
    "        sess = tf.compat.v1.keras.backend.get_session()\n",
    "        graph_def = sess.graph.as_graph_def()\n",
    "        # Import the graph definition into the provided graph\n",
    "        tf.import_graph_def(graph_def, name='vgg19')\n",
    "         # Get the input tensor of the VGG model\n",
    "        input_tensor = g.get_tensor_by_name('input_1:0')  # Change 'input_1:0' to the correct input tensor name\n",
    "        \n",
    "        return vgg, input_tensor\n",
    "\n",
    "# Load the VGG model into the graph 'g'\n",
    "with g.as_default():\n",
    "    vgg_model_loaded, input_tensor = load_vgg_model(g)\n",
    "    \n",
    "input_tensor"
   ]
  },
  {
   "cell_type": "code",
   "execution_count": null,
   "id": "b663a0db",
   "metadata": {},
   "outputs": [],
   "source": [
    "def get_content_feature(img_4d):\n",
    "# gets the content features from maxpool5 layer of vgg16 and feeds in data img_4d via placeholder x1.\n",
    "\n",
    "    with tf.Session(graph=g1) as sess, g1.device('/gpu:0'):\n",
    "\n",
    "\n",
    "            content_layer = 'vgg/pool5:0'\n",
    "            content_features= g1.get_tensor_by_name(content_layer).eval(\n",
    "                    session=sess,\n",
    "                    feed_dict={x1: img_4d\n",
    "                    })\n",
    "\n",
    "            # train_new.append(content_features)\n",
    "            print(content_features.shape)\n",
    "            return content_features\n"
   ]
  },
  {
   "cell_type": "code",
   "execution_count": null,
   "id": "0ba28833",
   "metadata": {},
   "outputs": [],
   "source": [
    "TRAIN_IMG_CODE_FOLDER = \"train_img_codes/\"\n",
    "TEST_IMG_CODE_FOLDER = \"test_img_codes/\"\n",
    "os.mkdir(TRAIN_IMG_CODE_FOLDER)\n",
    "os.mkdir(TEST_IMG_CODE_FOLDER)\n"
   ]
  },
  {
   "cell_type": "code",
   "execution_count": null,
   "id": "ae6daf8c",
   "metadata": {},
   "outputs": [],
   "source": [
    "training_folder_len = len(os.listdir('train_images/'))\n",
    "numb_train_img = (training_folder_len - (training_folder_len%batch))+1\n",
    "numb_train_img"
   ]
  },
  {
   "cell_type": "code",
   "execution_count": null,
   "id": "3ac7afa1",
   "metadata": {},
   "outputs": [],
   "source": [
    "os.listdir('train_images/')"
   ]
  },
  {
   "cell_type": "code",
   "execution_count": null,
   "id": "b9fde0db",
   "metadata": {},
   "outputs": [],
   "source": [
    "for j in range(0,numb_train_img,batch):             #Process Training images in batches of 20 and feed them in content_features tensor and save the result in a wb pickle file  inside Training image code folder\n",
    "    img=[]\n",
    "    start_time = time.time()\n",
    "    if j==numb_train_img-1:\n",
    "        m = j+batch-training_folder_len\n",
    "        print(m)\n",
    "\n",
    "    for i in range(j+0,j+20-m):\n",
    "        og = plt.imread(\"train_images\"+\"/\"+str(i)+\".png\")\n",
    "        og = preprocess(og)\n",
    "        img.append(og)\n",
    "    print(\"j=\",j)\n",
    "    x1 = g.get_tensor_by_name('vgg/images' + ':0')\n",
    "\n",
    "    img_4d = np.array(img)\n",
    "    print(img_4d.shape , \"Image Shape\")"
   ]
  },
  {
   "cell_type": "code",
   "execution_count": null,
   "id": "27abf38c",
   "metadata": {},
   "outputs": [],
   "source": [
    "g"
   ]
  },
  {
   "cell_type": "code",
   "execution_count": null,
   "id": "8f8d7a72",
   "metadata": {},
   "outputs": [],
   "source": []
  }
 ],
 "metadata": {
  "kernelspec": {
   "display_name": "Python 3 (ipykernel)",
   "language": "python",
   "name": "python3"
  },
  "language_info": {
   "codemirror_mode": {
    "name": "ipython",
    "version": 3
   },
   "file_extension": ".py",
   "mimetype": "text/x-python",
   "name": "python",
   "nbconvert_exporter": "python",
   "pygments_lexer": "ipython3",
   "version": "3.11.0"
  }
 },
 "nbformat": 4,
 "nbformat_minor": 5
}
