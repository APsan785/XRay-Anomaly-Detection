{
 "cells": [
  {
   "cell_type": "code",
   "execution_count": 2,
   "id": "8c7cb828",
   "metadata": {},
   "outputs": [],
   "source": [
    "import matplotlib.pyplot as plt\n",
    "import tensorflow as tf\n",
    "import numpy as np\n",
    "import os\n",
    "from skimage.transform import resize as imresize\n",
    "import pickle\n",
    "import time\n",
    "import sys\n"
   ]
  },
  {
   "cell_type": "code",
   "execution_count": 3,
   "id": "6746c68a",
   "metadata": {},
   "outputs": [],
   "source": [
    "training_folder = \"train_images\"\n",
    "testing_folder = \"test_images\"\n",
    "batch_train = 20\n",
    "batch_test = 25"
   ]
  },
  {
   "cell_type": "code",
   "execution_count": 8,
   "id": "56bf9193",
   "metadata": {},
   "outputs": [],
   "source": [
    "def get_vgg_model():\n",
    "#     download('https://s3.amazonaws.com/cadl/models/vgg16.tfmodel')\n",
    "    with open(\"vgg16.tfmodel\", mode='rb') as f:\n",
    "        graph_def = tf.GraphDef()           # makes a graph defintion using function tf.GraphDef()\n",
    "        try:\n",
    "            graph_def.ParseFromString(f.read())     # feeds the vgg16 model onto the graph definition\n",
    "        except:\n",
    "            print('try adding PROTOCOL_BUFFERS_PYTHON_IMPLEMENTATION=python ' +\n",
    "                  'to environment.  e.g.:\\n' +\n",
    "                  'PROTOCOL_BUFFERS_PYTHON_IMPLEMENTATION=python ipython\\n' +\n",
    "                  'See here for info: ' +\n",
    "                  'https://github.com/tensorflow/tensorflow/issues/582')\n",
    "\n",
    "    # download('https://s3.amazonaws.com/cadl/models/synset.txt')\n",
    "    # with open('synset.txt') as f:\n",
    "    #     labels = [(idx, l.strip()) for idx, l in enumerate(f.readlines())]\n",
    "\n",
    "    return {\n",
    "        'graph_def': graph_def\n",
    "        # 'labels': labels\n",
    "        # 'preprocess': preprocess,\n",
    "        # 'deprocess': deprocess\n",
    "    }"
   ]
  },
  {
   "cell_type": "code",
   "execution_count": 5,
   "id": "dfd94958",
   "metadata": {},
   "outputs": [],
   "source": [
    "def preprocess(img, crop=True, resize=True, dsize=(224, 224)):\n",
    "    if img.dtype == np.uint8:\n",
    "        img = img / 255.0\n",
    "\n",
    "    if crop:\n",
    "        short_edge = min(img.shape[:2])\n",
    "        yy = int((img.shape[0] - short_edge) / 2)\n",
    "        xx = int((img.shape[1] - short_edge) / 2)\n",
    "        crop_img = img[yy: yy + short_edge, xx: xx + short_edge]\n",
    "    else:\n",
    "        crop_img = img\n",
    "\n",
    "    if resize:\n",
    "        norm_img = imresize(crop_img, dsize, preserve_range=True)\n",
    "    else:\n",
    "        norm_img = crop_img\n",
    "\n",
    "    return (norm_img).astype(np.float32)\n",
    "\n",
    "def deprocess(img):\n",
    "    return np.clip(img * 255, 0, 255).astype(np.uint8)\n",
    "    # return ((img / np.max(np.abs(img))) * 127.5+127.5).astype(np.uint8)\n"
   ]
  },
  {
   "cell_type": "code",
   "execution_count": 9,
   "id": "ff04497b",
   "metadata": {},
   "outputs": [
    {
     "ename": "AttributeError",
     "evalue": "module 'tensorflow' has no attribute 'GraphDef'",
     "output_type": "error",
     "traceback": [
      "\u001b[1;31m---------------------------------------------------------------------------\u001b[0m",
      "\u001b[1;31mAttributeError\u001b[0m                            Traceback (most recent call last)",
      "Cell \u001b[1;32mIn[9], line 1\u001b[0m\n\u001b[1;32m----> 1\u001b[0m net \u001b[38;5;241m=\u001b[39m \u001b[43mget_vgg_model\u001b[49m\u001b[43m(\u001b[49m\u001b[43m)\u001b[49m\n",
      "Cell \u001b[1;32mIn[8], line 4\u001b[0m, in \u001b[0;36mget_vgg_model\u001b[1;34m()\u001b[0m\n\u001b[0;32m      1\u001b[0m \u001b[38;5;28;01mdef\u001b[39;00m \u001b[38;5;21mget_vgg_model\u001b[39m():\n\u001b[0;32m      2\u001b[0m \u001b[38;5;66;03m#     download('https://s3.amazonaws.com/cadl/models/vgg16.tfmodel')\u001b[39;00m\n\u001b[0;32m      3\u001b[0m     \u001b[38;5;28;01mwith\u001b[39;00m \u001b[38;5;28mopen\u001b[39m(\u001b[38;5;124m\"\u001b[39m\u001b[38;5;124mvgg16.tfmodel\u001b[39m\u001b[38;5;124m\"\u001b[39m, mode\u001b[38;5;241m=\u001b[39m\u001b[38;5;124m'\u001b[39m\u001b[38;5;124mrb\u001b[39m\u001b[38;5;124m'\u001b[39m) \u001b[38;5;28;01mas\u001b[39;00m f:\n\u001b[1;32m----> 4\u001b[0m         graph_def \u001b[38;5;241m=\u001b[39m \u001b[43mtf\u001b[49m\u001b[38;5;241;43m.\u001b[39;49m\u001b[43mGraphDef\u001b[49m()           \u001b[38;5;66;03m# makes a graph defintion using function tf.GraphDef()\u001b[39;00m\n\u001b[0;32m      5\u001b[0m         \u001b[38;5;28;01mtry\u001b[39;00m:\n\u001b[0;32m      6\u001b[0m             graph_def\u001b[38;5;241m.\u001b[39mParseFromString(f\u001b[38;5;241m.\u001b[39mread())     \u001b[38;5;66;03m# feeds the vgg16 model onto the graph definition\u001b[39;00m\n",
      "\u001b[1;31mAttributeError\u001b[0m: module 'tensorflow' has no attribute 'GraphDef'"
     ]
    }
   ],
   "source": [
    "net = get_vgg_model()"
   ]
  },
  {
   "cell_type": "code",
   "execution_count": null,
   "id": "9b112e32",
   "metadata": {},
   "outputs": [],
   "source": [
    "g1 = tf.Graph()                                                 # initializes a tf graph\n",
    "\n",
    "with tf.Session(graph=g1) as sess, g1.device('/cpu:0'):         # '/cpu:0' specifies the first CPU available in the system.\n",
    "    tf.import_graph_def(net['graph_def'], name='vgg')          #uploads the graph from vgg16 onto the g1 graph and names it vgg\n"
   ]
  },
  {
   "cell_type": "code",
   "execution_count": null,
   "id": "3058b997",
   "metadata": {},
   "outputs": [],
   "source": [
    "def get_content_feature(img_4d):\n",
    "# gets the content features from maxpool5 layer of vgg16 and feeds in data img_4d via placeholder x1.\n",
    "\n",
    "    with tf.Session(graph=g1) as sess, g1.device('/gpu:0'):\n",
    "\n",
    "\n",
    "            content_layer = 'vgg/pool5:0'\n",
    "            content_features= g1.get_tensor_by_name(content_layer).eval(\n",
    "                    session=sess,\n",
    "                    feed_dict={x1: img_4d\n",
    "                    })\n",
    "\n",
    "            # train_new.append(content_features)\n",
    "            print(content_features.shape)\n",
    "            return content_features"
   ]
  }
 ],
 "metadata": {
  "kernelspec": {
   "display_name": "Python 3 (ipykernel)",
   "language": "python",
   "name": "python3"
  },
  "language_info": {
   "codemirror_mode": {
    "name": "ipython",
    "version": 3
   },
   "file_extension": ".py",
   "mimetype": "text/x-python",
   "name": "python",
   "nbconvert_exporter": "python",
   "pygments_lexer": "ipython3",
   "version": "3.11.0"
  }
 },
 "nbformat": 4,
 "nbformat_minor": 5
}
